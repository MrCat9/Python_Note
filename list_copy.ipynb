{
 "cells": [
  {
   "cell_type": "markdown",
   "metadata": {},
   "source": [
    "# Python中List的复制"
   ]
  },
  {
   "cell_type": "markdown",
   "metadata": {},
   "source": [
    "摘自 [Python中List的复制（直接复制、浅拷贝、深拷贝）](https://blog.csdn.net/qq_24502469/article/details/104185122)"
   ]
  },
  {
   "cell_type": "markdown",
   "metadata": {},
   "source": [
    "## 1. 直接赋值"
   ]
  },
  {
   "cell_type": "markdown",
   "metadata": {},
   "source": [
    "如果用 = 直接赋值，是非拷贝方法。\n",
    "\n",
    "这两个列表是等价的，修改其中任何一个列表都会影响到另一个列表。"
   ]
  },
  {
   "cell_type": "code",
   "execution_count": 1,
   "metadata": {},
   "outputs": [
    {
     "name": "stdout",
     "output_type": "stream",
     "text": [
      "old: [1, [1, 2, 3], 3]\n",
      "new: [1, [1, 2, 3], 3]\n"
     ]
    }
   ],
   "source": [
    "old = [1, [1, 2, 3], 3]\n",
    "new = old\n",
    "print('old:', old)\n",
    "print('new:', new)"
   ]
  },
  {
   "cell_type": "code",
   "execution_count": 2,
   "metadata": {},
   "outputs": [
    {
     "name": "stdout",
     "output_type": "stream",
     "text": [
      "old: [3, [3, 2, 3], 3]\n",
      "new: [3, [3, 2, 3], 3]\n"
     ]
    }
   ],
   "source": [
    "new[0] = 3\n",
    "new[1][0] = 3\n",
    "print('old:', old)\n",
    "print('new:', new)"
   ]
  },
  {
   "cell_type": "markdown",
   "metadata": {},
   "source": [
    "## 2. 浅拷贝"
   ]
  },
  {
   "cell_type": "markdown",
   "metadata": {},
   "source": [
    "### 2.1. `copy()`方法"
   ]
  },
  {
   "cell_type": "markdown",
   "metadata": {},
   "source": [
    "对于List来说，其第一层，是实现了深拷贝，但对于其内嵌套的List，仍然是浅拷贝。\n",
    "\n",
    "因为嵌套的List保存的是地址，复制过去的时候是把地址复制过去了，嵌套的List在内存中指向的还是同一个。"
   ]
  },
  {
   "cell_type": "code",
   "execution_count": 3,
   "metadata": {},
   "outputs": [
    {
     "name": "stdout",
     "output_type": "stream",
     "text": [
      "old: [1, [1, 2, 3], 3]\n",
      "new: [1, [1, 2, 3], 3]\n"
     ]
    }
   ],
   "source": [
    "old = [1, [1, 2, 3], 3]\n",
    "new = old.copy()\n",
    "print('old:', old)\n",
    "print('new:', new)"
   ]
  },
  {
   "cell_type": "code",
   "execution_count": 4,
   "metadata": {},
   "outputs": [
    {
     "name": "stdout",
     "output_type": "stream",
     "text": [
      "old: [1, [3, 2, 3], 3]\n",
      "new: [3, [3, 2, 3], 3]\n"
     ]
    }
   ],
   "source": [
    "new[0] = 3\n",
    "new[1][0] = 3\n",
    "print('old:', old)\n",
    "print('new:', new)"
   ]
  },
  {
   "cell_type": "markdown",
   "metadata": {},
   "source": [
    "### 2.2. 使用列表生成式"
   ]
  },
  {
   "cell_type": "markdown",
   "metadata": {},
   "source": [
    "使用列表生成式产生新列表也是一个浅拷贝方法，只对第一层实现深拷贝。"
   ]
  },
  {
   "cell_type": "code",
   "execution_count": 5,
   "metadata": {},
   "outputs": [
    {
     "name": "stdout",
     "output_type": "stream",
     "text": [
      "old: [1, [1, 2, 3], 3]\n",
      "new: [1, [1, 2, 3], 3]\n"
     ]
    }
   ],
   "source": [
    "old = [1, [1, 2, 3], 3]\n",
    "new = [i for i in old]\n",
    "print('old:', old)\n",
    "print('new:', new)"
   ]
  },
  {
   "cell_type": "code",
   "execution_count": 6,
   "metadata": {},
   "outputs": [
    {
     "name": "stdout",
     "output_type": "stream",
     "text": [
      "old: [1, [3, 2, 3], 3]\n",
      "new: [3, [3, 2, 3], 3]\n"
     ]
    }
   ],
   "source": [
    "new[0] = 3\n",
    "new[1][0] = 3\n",
    "print('old:', old)\n",
    "print('new:', new)"
   ]
  },
  {
   "cell_type": "markdown",
   "metadata": {},
   "source": [
    "### 2.3. for循环遍历"
   ]
  },
  {
   "cell_type": "markdown",
   "metadata": {},
   "source": [
    "通过for循环遍历，将元素一个个添加到新列表中。这也是一个浅拷贝方法，只对第一层实现深拷贝。"
   ]
  },
  {
   "cell_type": "code",
   "execution_count": 7,
   "metadata": {},
   "outputs": [
    {
     "name": "stdout",
     "output_type": "stream",
     "text": [
      "old: [1, [1, 2, 3], 3]\n",
      "new: [1, [1, 2, 3], 3]\n"
     ]
    }
   ],
   "source": [
    "old = [1, [1, 2, 3], 3]\n",
    "new = []\n",
    "for i in range(len(old)):\n",
    "    new.append(old[i])\n",
    "print('old:', old)\n",
    "print('new:', new)"
   ]
  },
  {
   "cell_type": "code",
   "execution_count": 8,
   "metadata": {},
   "outputs": [
    {
     "name": "stdout",
     "output_type": "stream",
     "text": [
      "old: [1, [3, 2, 3], 3]\n",
      "new: [3, [3, 2, 3], 3]\n"
     ]
    }
   ],
   "source": [
    "new[0] = 3\n",
    "new[1][0] = 3\n",
    "print('old:', old)\n",
    "print('new:', new)"
   ]
  },
  {
   "cell_type": "markdown",
   "metadata": {},
   "source": [
    "### 2.4. 使用切片"
   ]
  },
  {
   "cell_type": "markdown",
   "metadata": {},
   "source": [
    "通过使用`[:]`切片，可以浅拷贝整个列表，同样的，只对第一层实现深拷贝。"
   ]
  },
  {
   "cell_type": "code",
   "execution_count": 9,
   "metadata": {},
   "outputs": [
    {
     "name": "stdout",
     "output_type": "stream",
     "text": [
      "old: [1, [1, 2, 3], 3]\n",
      "new: [1, [1, 2, 3], 3]\n"
     ]
    }
   ],
   "source": [
    "old = [1, [1, 2, 3], 3]\n",
    "new = old[:]\n",
    "print('old:', old)\n",
    "print('new:', new)"
   ]
  },
  {
   "cell_type": "code",
   "execution_count": 10,
   "metadata": {},
   "outputs": [
    {
     "name": "stdout",
     "output_type": "stream",
     "text": [
      "old: [1, [3, 2, 3], 3]\n",
      "new: [3, [3, 2, 3], 3]\n"
     ]
    }
   ],
   "source": [
    "new[0] = 3\n",
    "new[1][0] = 3\n",
    "print('old:', old)\n",
    "print('new:', new)"
   ]
  },
  {
   "cell_type": "markdown",
   "metadata": {},
   "source": [
    "## 3. 深拷贝"
   ]
  },
  {
   "cell_type": "markdown",
   "metadata": {},
   "source": [
    "如果用`deepcopy()`方法，则无论多少层，无论怎样的形式，得到的新列表都是和原来无关的，这是最安全最清爽最有效的方法。\n",
    "\n",
    "需要`import copy`"
   ]
  },
  {
   "cell_type": "code",
   "execution_count": 11,
   "metadata": {},
   "outputs": [
    {
     "name": "stdout",
     "output_type": "stream",
     "text": [
      "old: [1, [1, 2, 3], 3]\n",
      "new: [1, [1, 2, 3], 3]\n"
     ]
    }
   ],
   "source": [
    "import copy\n",
    "old = [1, [1, 2, 3], 3]\n",
    "new = copy.deepcopy(old)\n",
    "print('old:', old)\n",
    "print('new:', new)"
   ]
  },
  {
   "cell_type": "code",
   "execution_count": 12,
   "metadata": {},
   "outputs": [
    {
     "name": "stdout",
     "output_type": "stream",
     "text": [
      "old: [1, [1, 2, 3], 3]\n",
      "new: [3, [3, 2, 3], 3]\n"
     ]
    }
   ],
   "source": [
    "new[0] = 3\n",
    "new[1][0] = 3\n",
    "print('old:', old)\n",
    "print('new:', new)"
   ]
  }
 ],
 "metadata": {
  "kernelspec": {
   "display_name": "Python 3",
   "language": "python",
   "name": "python3"
  },
  "language_info": {
   "codemirror_mode": {
    "name": "ipython",
    "version": 3
   },
   "file_extension": ".py",
   "mimetype": "text/x-python",
   "name": "python",
   "nbconvert_exporter": "python",
   "pygments_lexer": "ipython3",
   "version": "3.6.7"
  }
 },
 "nbformat": 4,
 "nbformat_minor": 4
}
